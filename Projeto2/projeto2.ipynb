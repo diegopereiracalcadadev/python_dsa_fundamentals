{
 "cells": [
  {
   "cell_type": "code",
   "execution_count": 2,
   "metadata": {},
   "outputs": [
    {
     "name": "stdout",
     "output_type": "stream",
     "text": [
      "\n",
      "\u001b[1m[\u001b[0m\u001b[34;49mnotice\u001b[0m\u001b[1;39;49m]\u001b[0m\u001b[39;49m A new release of pip is available: \u001b[0m\u001b[31;49m23.1.1\u001b[0m\u001b[39;49m -> \u001b[0m\u001b[32;49m23.1.2\u001b[0m\n",
      "\u001b[1m[\u001b[0m\u001b[34;49mnotice\u001b[0m\u001b[1;39;49m]\u001b[0m\u001b[39;49m To update, run: \u001b[0m\u001b[32;49mpython -m pip install --upgrade pip\u001b[0m\n"
     ]
    }
   ],
   "source": [
    "!pip install -q pandas==1.5.3"
   ]
  },
  {
   "cell_type": "code",
   "execution_count": 3,
   "metadata": {},
   "outputs": [
    {
     "name": "stdout",
     "output_type": "stream",
     "text": [
      "Panda version: 1.5.3\n"
     ]
    }
   ],
   "source": [
    "\n",
    "# Imports\n",
    "import pandas as pd\n",
    "from pandas import DataFrame\n",
    "\n",
    "print('Panda version:', pd.__version__)\n"
   ]
  },
  {
   "cell_type": "code",
   "execution_count": 4,
   "metadata": {},
   "outputs": [],
   "source": [
    "\n",
    "# Reading data\n",
    "data = pd.read_csv(\"dados/dataset.csv\")\n"
   ]
  },
  {
   "cell_type": "code",
   "execution_count": 5,
   "metadata": {},
   "outputs": [
    {
     "data": {
      "text/html": [
       "<div>\n",
       "<style scoped>\n",
       "    .dataframe tbody tr th:only-of-type {\n",
       "        vertical-align: middle;\n",
       "    }\n",
       "\n",
       "    .dataframe tbody tr th {\n",
       "        vertical-align: top;\n",
       "    }\n",
       "\n",
       "    .dataframe thead th {\n",
       "        text-align: right;\n",
       "    }\n",
       "</style>\n",
       "<table border=\"1\" class=\"dataframe\">\n",
       "  <thead>\n",
       "    <tr style=\"text-align: right;\">\n",
       "      <th></th>\n",
       "      <th>ID_Pedido</th>\n",
       "      <th>Data_Pedido</th>\n",
       "      <th>ID_Cliente</th>\n",
       "      <th>Segmento</th>\n",
       "      <th>Pais</th>\n",
       "      <th>Cidade</th>\n",
       "      <th>Estado</th>\n",
       "      <th>ID_Produto</th>\n",
       "      <th>Categoria</th>\n",
       "      <th>SubCategoria</th>\n",
       "      <th>Valor_Venda</th>\n",
       "    </tr>\n",
       "  </thead>\n",
       "  <tbody>\n",
       "    <tr>\n",
       "      <th>0</th>\n",
       "      <td>CA-2017-152156</td>\n",
       "      <td>08/11/2017</td>\n",
       "      <td>CG-12520</td>\n",
       "      <td>Consumer</td>\n",
       "      <td>United States</td>\n",
       "      <td>Henderson</td>\n",
       "      <td>Kentucky</td>\n",
       "      <td>FUR-BO-10001798</td>\n",
       "      <td>Furniture</td>\n",
       "      <td>Bookcases</td>\n",
       "      <td>261.9600</td>\n",
       "    </tr>\n",
       "    <tr>\n",
       "      <th>1</th>\n",
       "      <td>CA-2017-152156</td>\n",
       "      <td>08/11/2017</td>\n",
       "      <td>CG-12520</td>\n",
       "      <td>Consumer</td>\n",
       "      <td>United States</td>\n",
       "      <td>Henderson</td>\n",
       "      <td>Kentucky</td>\n",
       "      <td>FUR-CH-10000454</td>\n",
       "      <td>Furniture</td>\n",
       "      <td>Chairs</td>\n",
       "      <td>731.9400</td>\n",
       "    </tr>\n",
       "    <tr>\n",
       "      <th>2</th>\n",
       "      <td>CA-2017-138688</td>\n",
       "      <td>12/06/2017</td>\n",
       "      <td>DV-13045</td>\n",
       "      <td>Corporate</td>\n",
       "      <td>United States</td>\n",
       "      <td>Los Angeles</td>\n",
       "      <td>California</td>\n",
       "      <td>OFF-LA-10000240</td>\n",
       "      <td>Office Supplies</td>\n",
       "      <td>Labels</td>\n",
       "      <td>14.6200</td>\n",
       "    </tr>\n",
       "    <tr>\n",
       "      <th>3</th>\n",
       "      <td>US-2016-108966</td>\n",
       "      <td>11/10/2016</td>\n",
       "      <td>SO-20335</td>\n",
       "      <td>Consumer</td>\n",
       "      <td>United States</td>\n",
       "      <td>Fort Lauderdale</td>\n",
       "      <td>Florida</td>\n",
       "      <td>FUR-TA-10000577</td>\n",
       "      <td>Furniture</td>\n",
       "      <td>Tables</td>\n",
       "      <td>957.5775</td>\n",
       "    </tr>\n",
       "    <tr>\n",
       "      <th>4</th>\n",
       "      <td>US-2016-108966</td>\n",
       "      <td>11/10/2016</td>\n",
       "      <td>SO-20335</td>\n",
       "      <td>Consumer</td>\n",
       "      <td>United States</td>\n",
       "      <td>Fort Lauderdale</td>\n",
       "      <td>Florida</td>\n",
       "      <td>OFF-ST-10000760</td>\n",
       "      <td>Office Supplies</td>\n",
       "      <td>Storage</td>\n",
       "      <td>22.3680</td>\n",
       "    </tr>\n",
       "  </tbody>\n",
       "</table>\n",
       "</div>"
      ],
      "text/plain": [
       "        ID_Pedido Data_Pedido ID_Cliente   Segmento           Pais  \\\n",
       "0  CA-2017-152156  08/11/2017   CG-12520   Consumer  United States   \n",
       "1  CA-2017-152156  08/11/2017   CG-12520   Consumer  United States   \n",
       "2  CA-2017-138688  12/06/2017   DV-13045  Corporate  United States   \n",
       "3  US-2016-108966  11/10/2016   SO-20335   Consumer  United States   \n",
       "4  US-2016-108966  11/10/2016   SO-20335   Consumer  United States   \n",
       "\n",
       "            Cidade      Estado       ID_Produto        Categoria SubCategoria  \\\n",
       "0        Henderson    Kentucky  FUR-BO-10001798        Furniture    Bookcases   \n",
       "1        Henderson    Kentucky  FUR-CH-10000454        Furniture       Chairs   \n",
       "2      Los Angeles  California  OFF-LA-10000240  Office Supplies       Labels   \n",
       "3  Fort Lauderdale     Florida  FUR-TA-10000577        Furniture       Tables   \n",
       "4  Fort Lauderdale     Florida  OFF-ST-10000760  Office Supplies      Storage   \n",
       "\n",
       "   Valor_Venda  \n",
       "0     261.9600  \n",
       "1     731.9400  \n",
       "2      14.6200  \n",
       "3     957.5775  \n",
       "4      22.3680  "
      ]
     },
     "execution_count": 5,
     "metadata": {},
     "output_type": "execute_result"
    }
   ],
   "source": [
    "data.head()"
   ]
  },
  {
   "cell_type": "code",
   "execution_count": 6,
   "metadata": {},
   "outputs": [
    {
     "name": "stdout",
     "output_type": "stream",
     "text": [
      "               Valor_Venda\n",
      "Cidade                    \n",
      "New York City    68362.814\n"
     ]
    }
   ],
   "source": [
    "# 1:Qual Cidade com Maior Valor de Venda de Produtos da Categoria 'Office Supplies'?    \n",
    "\n",
    "somatorios = data[data.Categoria == 'Office Supplies'][['Cidade', 'Valor_Venda']].groupby(['Cidade']).sum()\n",
    "# print(somatorios.sort_values(by='Valor_Venda', ascending=False))\n",
    "\n",
    "cidadeComMaiorValorVenda = somatorios.query('Valor_Venda == Valor_Venda.max()')\n",
    "print(cidadeComMaiorValorVenda)"
   ]
  },
  {
   "cell_type": "code",
   "execution_count": 7,
   "metadata": {},
   "outputs": [
    {
     "name": "stdout",
     "output_type": "stream",
     "text": [
      "New York City\n"
     ]
    }
   ],
   "source": [
    "# R1:\n",
    "data_p1 = data[data['Categoria'] == 'Office Supplies']\n",
    "data_p1_total = data_p1.groupby('Cidade')['Valor_Venda'].sum()\n",
    "# print(data_p1.groupby('Cidade')['Valor_Venda'].groups)\n",
    "\n",
    "cidade_maior_venda = data_p1_total.idxmax()\n",
    "print(cidade_maior_venda)\n",
    "\n",
    "# Validando resultado\n",
    "# data_p1_total.sort_values(ascending = False)"
   ]
  },
  {
   "cell_type": "code",
   "execution_count": 8,
   "metadata": {},
   "outputs": [
    {
     "name": "stderr",
     "output_type": "stream",
     "text": [
      "/tmp/ipykernel_3263/2738479420.py:6: UserWarning: Parsing dates in DD/MM/YYYY format when dayfirst=False (the default) was specified. This may lead to inconsistently parsed dates! Specify a format to ensure consistent parsing.\n",
      "  data[\"Data_Pedido\"] = data[\"Data_Pedido\"].astype('datetime64[ns]')\n"
     ]
    },
    {
     "name": "stdout",
     "output_type": "stream",
     "text": [
      "<class 'pandas.core.frame.DataFrame'>\n"
     ]
    },
    {
     "data": {
      "image/png": "[encoded data removed]",
      "text/plain": [
       "<Figure size 640x480 with 1 Axes>"
      ]
     },
     "metadata": {},
     "output_type": "display_data"
    }
   ],
   "source": [
    "# 2:Qual o Total de Vendas Por Data do Pedido?Demonstre o resultado através de um gráfico de barras.    \n",
    "\n",
    "import matplotlib.pyplot as plt\n",
    "%matplotlib inline\n",
    "\n",
    "data[\"Data_Pedido\"] = data[\"Data_Pedido\"].astype('datetime64[ns]')\n",
    "total_vendas = data[['Data_Pedido', 'Valor_Venda']].groupby('Data_Pedido').sum()\n",
    "print(type(total_vendas))\n",
    "total_vendas_ordered = total_vendas.sort_values(by='Data_Pedido', ascending=True)\n",
    "\n",
    "plt.bar(total_vendas_ordered.index, total_vendas_ordered['Valor_Venda'].to_numpy(), label = 'Barras', color = 'green')\n",
    "plt.legend()\n",
    "plt.show()"
   ]
  },
  {
   "cell_type": "code",
   "execution_count": 9,
   "metadata": {},
   "outputs": [
    {
     "data": {
      "image/png": "[encoded data removed]",
      "text/plain": [
       "<Figure size 640x480 with 1 Axes>"
      ]
     },
     "metadata": {},
     "output_type": "display_data"
    }
   ],
   "source": [
    "#3 Qual o Total de Vendas por Estado?\n",
    "# Demonstre o resultado através de um gráfico de barras.\n",
    "\n",
    "# total_vendas_por_estado = data.groupby('Estado')['Valor_Venda'].sum()\n",
    "# print(type(total_vendas_por_estado['Valor_Venda']))\n",
    "\n",
    "total_vendas_por_estado = data[['Estado', 'Valor_Venda']].groupby('Estado').sum()\n",
    "\n",
    "plt.bar(total_vendas_por_estado.index, total_vendas_por_estado['Valor_Venda'].to_numpy(), label = 'Barras', color = 'red')\n",
    "plt.legend()\n",
    "plt.show()\n"
   ]
  },
  {
   "cell_type": "code",
   "execution_count": 10,
   "metadata": {},
   "outputs": [
    {
     "name": "stdout",
     "output_type": "stream",
     "text": [
      "               Valor_Venda\n",
      "Cidade                    \n",
      "New York City  251749.2190\n",
      "Los Angeles    171654.6330\n",
      "Seattle        114725.4780\n",
      "San Francisco  107489.9520\n",
      "Philadelphia   107197.8030\n",
      "Houston         61590.1868\n",
      "San Diego       47458.3790\n",
      "Chicago         46974.3430\n",
      "Jacksonville    44713.1830\n",
      "Detroit         42446.9440\n"
     ]
    }
   ],
   "source": [
    "#4 Quais São as 10 Cidades com Maior Total de Vendas?\n",
    "# Demonstre o resultado através de um gráfico de barras\n",
    "\n",
    "top_dez = data[['Cidade', 'Valor_Venda']].groupby('Cidade').sum().sort_values(by='Valor_Venda', ascending=False).head(10)\n",
    "print(top_dez)"
   ]
  },
  {
   "cell_type": "code",
   "execution_count": 11,
   "metadata": {},
   "outputs": [
    {
     "name": "stdout",
     "output_type": "stream",
     "text": [
      "              Valor_Venda\n",
      "Segmento                 \n",
      "Consumer     1.133834e+06\n",
      "Corporate    6.792322e+05\n",
      "Home Office  4.224914e+05\n",
      "[1133834.335   679232.1868  422491.4329]\n",
      "['Consumer' 'Corporate' 'Home Office']\n"
     ]
    },
    {
     "data": {
      "image/png": "[encoded data removed]",
      "text/plain": [
       "<Figure size 640x480 with 1 Axes>"
      ]
     },
     "metadata": {},
     "output_type": "display_data"
    }
   ],
   "source": [
    "#5 Qual Segmento Teve o Maior Total de Vendas?\n",
    "# Demonstre o resultado através de um gráfico de pizza.\n",
    "segmento_maior_total = data[['Segmento', 'Valor_Venda']].groupby('Segmento').sum()\n",
    "print(segmento_maior_total)\n",
    "\n",
    "fatias = segmento_maior_total['Valor_Venda'].to_numpy()\n",
    "segmentos = segmento_maior_total.index.values\n",
    "print(fatias)\n",
    "print(segmentos)\n",
    "cores = ['olive', 'lime', 'violet']\n",
    "\n",
    "plt.pie(fatias, labels = segmentos, colors = cores, startangle = 0, shadow = True, explode = (0,0,0))\n",
    "plt.show()"
   ]
  },
  {
   "cell_type": "code",
   "execution_count": 12,
   "metadata": {},
   "outputs": [
    {
     "name": "stdout",
     "output_type": "stream",
     "text": [
      "                  Valor_Venda\n",
      "Segmento    Ano              \n",
      "Consumer    2015  256719.9166\n",
      "            2016  265295.2593\n",
      "            2017  288459.5572\n",
      "            2018  323359.6019\n",
      "Corporate   2015  125819.5957\n",
      "            2016  114643.1229\n",
      "            2017  203266.7398\n",
      "            2018  235502.7284\n",
      "Home Office 2015   88229.0878\n",
      "            2016   74134.1332\n",
      "            2017  103639.6270\n",
      "            2018  156488.5849\n"
     ]
    }
   ],
   "source": [
    "#6 Qual o Total de Vendas Por Segmento e Por Ano?\n",
    "data['Ano'] = data['ID_Pedido'].str.split('-').str[1]\n",
    "\n",
    "\n",
    "total = data[['Segmento', 'Ano', 'Valor_Venda']].groupby(['Segmento', 'Ano']).sum()\n",
    "print(total)\n"
   ]
  },
  {
   "cell_type": "code",
   "execution_count": 13,
   "metadata": {},
   "outputs": [
    {
     "name": "stdout",
     "output_type": "stream",
     "text": [
      "5484\n"
     ]
    }
   ],
   "source": [
    "#7 Pergunta de Negócio 7 (Desafio Nível Júnior):\n",
    "\n",
    "# Os gestores da empresa estão considerando conceder diferentes faixas de descontos e gostariam de fazer uma simulação com base na regra abaixo:\n",
    "\n",
    "# - Se o Valor_Venda for maior que 1000 recebe 15% de desconto.\n",
    "# - Se o Valor_Venda for menor que 1000 recebe 10% de desconto.\n",
    "\n",
    "### Quantas Vendas Receberiam 15% de Desconto?\n",
    "vendas_com_15 = data.query(\"Valor_Venda > 1000\").size\n",
    "\n",
    "print(vendas_com_15)"
   ]
  },
  {
   "cell_type": "code",
   "execution_count": 14,
   "metadata": {},
   "outputs": [
    {
     "name": "stdout",
     "output_type": "stream",
     "text": [
      "Media antes: 2116.8078153172864\n",
      "Media depois: 1799.2866430196934\n"
     ]
    }
   ],
   "source": [
    "#8 Pergunta de Negócio 8 (Desafio Nível Master):\n",
    "\n",
    "### Considere Que a Empresa Decida Conceder o Desconto de 15% do Item Anterior. Qual Seria a Média do Valor de Venda Antes e Depois do Desconto?\n",
    "\n",
    "# Criando novo DataFrame para edição: \n",
    "vendas_com_15 = data.loc[data[\"Valor_Venda\"] > 1000, ['Valor_Venda'] ]\n",
    "vendas_com_15[\"Valor_com_15_desc\"] = vendas_com_15[\"Valor_Venda\"] * 85 / 100\n",
    "# print(vendas_com_15)\n",
    "\n",
    "media_antes = vendas_com_15.Valor_Venda.mean()\n",
    "print('Media antes:', media_antes)\n",
    "\n",
    "media_depois = vendas_com_15.Valor_com_15_desc.mean()\n",
    "print('Media depois:', media_depois)\n",
    "\n"
   ]
  },
  {
   "cell_type": "code",
   "execution_count": 18,
   "metadata": {},
   "outputs": [
    {
     "name": "stdout",
     "output_type": "stream",
     "text": [
      "             Valor_Venda\n",
      "Segmento                \n",
      "Consumer      225.011775\n",
      "Corporate     231.819859\n",
      "Home Office   244.073618\n",
      "      Valor_Venda\n",
      "Ano              \n",
      "2015   245.064342\n",
      "2016   222.148980\n",
      "2017   237.292118\n",
      "2018   221.745479\n"
     ]
    }
   ],
   "source": [
    "#9 Pergunta de Negócio 9 (Desafio Nível Master Ninja):\n",
    "\n",
    "### Qual o Média de Vendas Por Segmento, Por Ano e Por Mês? Demonstre o resultado através de gráfico de linha.\n",
    "\n",
    "media_por_segmento = data[['Segmento', 'Valor_Venda']].groupby(['Segmento']).mean()\n",
    "media_por_ano = data[['Ano', 'Valor_Venda']].groupby(['Ano']).mean()\n",
    "media_por_mes = data[['Ano', 'Valor_Venda']].groupby(['Segmento']).mean()\n",
    "\n",
    "print(media_por_segmento)\n",
    "print(media_por_ano)\n",
    "print(media_por_mes)"
   ]
  },
  {
   "cell_type": "code",
   "execution_count": null,
   "metadata": {},
   "outputs": [],
   "source": [
    "#10Pergunta de Negócio 10 (Desafio Nível Master Ninja das Galáxias):\n",
    "\n",
    "### Qual o Total de Vendas Por Categoria e SubCategoria, Considerando Somente as Top 12 SubCategorias?  Demonstre tudo através de um único gráfico."
   ]
  }
 ],
 "metadata": {
  "kernelspec": {
   "display_name": "Python 3",
   "language": "python",
   "name": "python3"
  },
  "language_info": {
   "codemirror_mode": {
    "name": "ipython",
    "version": 3
   },
   "file_extension": ".py",
   "mimetype": "text/x-python",
   "name": "python",
   "nbconvert_exporter": "python",
   "pygments_lexer": "ipython3",
   "version": "3.10.4"
  },
  "orig_nbformat": 4
 },
 "nbformat": 4,
 "nbformat_minor": 2
}
