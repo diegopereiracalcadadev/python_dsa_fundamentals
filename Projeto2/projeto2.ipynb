{
 "cells": [
  {
   "cell_type": "code",
   "execution_count": null,
   "metadata": {},
   "outputs": [],
   "source": [
    "!pip install -q pandas==1.5.3"
   ]
  },
  {
   "cell_type": "code",
   "execution_count": null,
   "metadata": {},
   "outputs": [],
   "source": [
    "\n",
    "# Imports\n",
    "import pandas as pd\n",
    "from pandas import DataFrame\n",
    "\n",
    "print('Panda version:', pd.__version__)\n"
   ]
  },
  {
   "cell_type": "code",
   "execution_count": null,
   "metadata": {},
   "outputs": [],
   "source": [
    "\n",
    "# Reading data\n",
    "data = pd.read_csv(\"dados/dataset.csv\")\n"
   ]
  },
  {
   "cell_type": "code",
   "execution_count": null,
   "metadata": {},
   "outputs": [],
   "source": [
    "data.head()"
   ]
  },
  {
   "cell_type": "code",
   "execution_count": 31,
   "metadata": {},
   "outputs": [
    {
     "name": "stdout",
     "output_type": "stream",
     "text": [
      "               Valor_Venda\n",
      "Cidade                    \n",
      "New York City    68362.814\n",
      "Los Angeles      47098.100\n",
      "San Francisco    41771.198\n",
      "Seattle          34856.878\n",
      "Philadelphia     29313.687\n",
      "...                    ...\n",
      "Ormond Beach         2.808\n",
      "Pensacola            2.214\n",
      "Jupiter              2.064\n",
      "Elyria               1.824\n",
      "Abilene              1.392\n",
      "\n",
      "[480 rows x 1 columns]\n",
      "               Valor_Venda\n",
      "Cidade                    \n",
      "New York City    68362.814\n"
     ]
    }
   ],
   "source": [
    "# 1:Qual Cidade com Maior Valor de Venda de Produtos da Categoria 'Office Supplies'?    \n",
    "\n",
    "somatorios = data[data.Categoria == 'Office Supplies'][['Cidade', 'Valor_Venda']].groupby(['Cidade']).sum()\n",
    "# print(somatorios.sort_values(by='Valor_Venda', ascending=False))\n",
    "\n",
    "cidadeComMaiorValorVenda = somatorios.query('Valor_Venda == Valor_Venda.max()')\n",
    "print(cidadeComMaiorValorVenda)"
   ]
  },
  {
   "cell_type": "code",
   "execution_count": null,
   "metadata": {},
   "outputs": [],
   "source": [
    "# R1:\n",
    "data_p1 = data[data['Categoria'] == 'Office Supplies']\n",
    "data_p1_total = data_p1.groupby('Cidade')['Valor_Venda'].sum()\n",
    "# print(data_p1.groupby('Cidade')['Valor_Venda'].groups)\n",
    "\n",
    "cidade_maior_venda = data_p1_total.idxmax()\n",
    "print(cidade_maior_venda)\n",
    "\n",
    "# Validando resultado\n",
    "# data_p1_total.sort_values(ascending = False)"
   ]
  },
  {
   "cell_type": "code",
   "execution_count": 30,
   "metadata": {},
   "outputs": [
    {
     "data": {
      "image/png": "[encoded data removed]",
      "text/plain": [
       "<Figure size 640x480 with 1 Axes>"
      ]
     },
     "metadata": {},
     "output_type": "display_data"
    }
   ],
   "source": [
    "# 2:Qual o Total de Vendas Por Data do Pedido?Demonstre o resultado através de um gráfico de barras.    \n",
    "\n",
    "import matplotlib.pyplot as plt\n",
    "%matplotlib inline\n",
    "\n",
    "data[\"Data_Pedido\"] = data[\"Data_Pedido\"].astype('datetime64[ns]')\n",
    "total_vendas = data[['Data_Pedido', 'Valor_Venda']].groupby('Data_Pedido').sum()\n",
    "total_vendas_ordered = total_vendas.sort_values(by='Data_Pedido', ascending=True)\n",
    "\n",
    "plt.bar(total_vendas_ordered.index, total_vendas_ordered['Valor_Venda'].to_numpy(), label = 'Barras', color = 'green')\n",
    "plt.legend()\n",
    "plt.show()"
   ]
  }
 ],
 "metadata": {
  "kernelspec": {
   "display_name": "Python 3",
   "language": "python",
   "name": "python3"
  },
  "language_info": {
   "codemirror_mode": {
    "name": "ipython",
    "version": 3
   },
   "file_extension": ".py",
   "mimetype": "text/x-python",
   "name": "python",
   "nbconvert_exporter": "python",
   "pygments_lexer": "ipython3",
   "version": "3.10.4"
  },
  "orig_nbformat": 4
 },
 "nbformat": 4,
 "nbformat_minor": 2
}
