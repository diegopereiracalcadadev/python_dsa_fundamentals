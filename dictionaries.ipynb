{
 "cells": [
  {
   "cell_type": "code",
   "execution_count": 2,
   "metadata": {},
   "outputs": [
    {
     "name": "stdout",
     "output_type": "stream",
     "text": [
      "{'Bob': 68, 'Zico': 57, 'Ana': 40}\n"
     ]
    }
   ],
   "source": [
    "dict_alunos = { 'Bob': 68, 'Zico': 57, 'Ana': 40}\n",
    "novo_dict = {k:v for (k,v) in dict_alunos.items()}\n",
    "print(novo_dict)"
   ]
  },
  {
   "cell_type": "code",
   "execution_count": 4,
   "metadata": {},
   "outputs": [
    {
     "name": "stdout",
     "output_type": "stream",
     "text": [
      "{'Bob': 'approved', 'Zico': 'fail', 'Ana': 'fail'}\n"
     ]
    }
   ],
   "source": [
    "dict_alunos = { 'Bob': 68, 'Zico': 57, 'Ana': 40}\n",
    "dict_com_status = {k:('approved' if v > 60 else 'fail') for (k,v) in dict_alunos.items()}\n",
    "print(dict_com_status)"
   ]
  }
 ],
 "metadata": {
  "kernelspec": {
   "display_name": "Python 3",
   "language": "python",
   "name": "python3"
  },
  "language_info": {
   "codemirror_mode": {
    "name": "ipython",
    "version": 3
   },
   "file_extension": ".py",
   "mimetype": "text/x-python",
   "name": "python",
   "nbconvert_exporter": "python",
   "pygments_lexer": "ipython3",
   "version": "3.10.4"
  },
  "orig_nbformat": 4
 },
 "nbformat": 4,
 "nbformat_minor": 2
}
