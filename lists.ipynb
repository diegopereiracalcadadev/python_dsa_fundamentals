{
 "cells": [
  {
   "attachments": {},
   "cell_type": "markdown",
   "metadata": {},
   "source": [
    "LISTAS\n"
   ]
  },
  {
   "cell_type": "code",
   "execution_count": 9,
   "metadata": {},
   "outputs": [
    {
     "name": "stdout",
     "output_type": "stream",
     "text": [
      "banana\n",
      "abacaxi\n",
      "uva\n",
      "['banana', 'abacaxi']\n"
     ]
    }
   ],
   "source": [
    "lista_compras = []\n",
    "lista_compras.append('banana')\n",
    "lista_compras.append('abacaxi')\n",
    "lista_compras.append('uva')\n",
    "\n",
    "for item in lista_compras:\n",
    "    print(item)\n",
    "\n",
    "nova_lista_com_letra = [x for x in lista_compras if \"b\" in x ]\n",
    "\n",
    "print(nova_lista_com_letra)\n",
    "\n",
    "\n"
   ]
  }
 ],
 "metadata": {
  "kernelspec": {
   "display_name": "Python 3",
   "language": "python",
   "name": "python3"
  },
  "language_info": {
   "codemirror_mode": {
    "name": "ipython",
    "version": 3
   },
   "file_extension": ".py",
   "mimetype": "text/x-python",
   "name": "python",
   "nbconvert_exporter": "python",
   "pygments_lexer": "ipython3",
   "version": "3.10.4"
  },
  "orig_nbformat": 4
 },
 "nbformat": 4,
 "nbformat_minor": 2
}
