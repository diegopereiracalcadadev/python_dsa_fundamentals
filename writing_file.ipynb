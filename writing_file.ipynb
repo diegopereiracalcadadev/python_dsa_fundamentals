{
 "cells": [
  {
   "cell_type": "code",
   "execution_count": 1,
   "metadata": {},
   "outputs": [
    {
     "name": "stdout",
     "output_type": "stream",
     "text": [
      "Python version:  3.10.4\n"
     ]
    }
   ],
   "source": [
    "from platform import python_version\n",
    "print('Python version: ', python_version())\n"
   ]
  },
  {
   "attachments": {},
   "cell_type": "markdown",
   "metadata": {},
   "source": [
    "# Escrevendo Arquivos"
   ]
  },
  {
   "cell_type": "code",
   "execution_count": 17,
   "metadata": {},
   "outputs": [],
   "source": [
    "# Abrindo o arquivo\n",
    "arq2 =  open(\"exemplos/arq2.txt\", \"w\")\n",
    "\n",
    "# Retornando cursos para início do arquivo\n",
    "arq2.write('linha inserida programaticamente')\n",
    "\n",
    "# Fechando arquivo\n",
    "arq2.close()\n",
    "  "
   ]
  },
  {
   "cell_type": "code",
   "execution_count": 18,
   "metadata": {},
   "outputs": [],
   "source": [
    "\n",
    "\n",
    "# Append\n",
    "arq2 = open(\"exemplos/arq2.txt\", \"a\")\n",
    "arq2.write('segunda linha inserida programatic.')\n",
    "arq2.close()"
   ]
  },
  {
   "cell_type": "code",
   "execution_count": 9,
   "metadata": {},
   "outputs": [],
   "source": [
    "# Lendo o restante da onde o cursos parou\n",
    "arq2 = open(\"exemplos/arq2.txt\", \"r\")\n",
    "print(arq2.read())"
   ]
  },
  {
   "cell_type": "code",
   "execution_count": 21,
   "metadata": {},
   "outputs": [
    {
     "name": "stdout",
     "output_type": "stream",
     "text": [
      "Coisa Coisa Coisa Coisa \n"
     ]
    }
   ],
   "source": [
    "with open('exemplos/arq1.txt') as arq1:\n",
    "    print(arq1.read())"
   ]
  }
 ],
 "metadata": {
  "kernelspec": {
   "display_name": "Python 3",
   "language": "python",
   "name": "python3"
  },
  "language_info": {
   "codemirror_mode": {
    "name": "ipython",
    "version": 3
   },
   "file_extension": ".py",
   "mimetype": "text/x-python",
   "name": "python",
   "nbconvert_exporter": "python",
   "pygments_lexer": "ipython3",
   "version": "3.10.4"
  },
  "orig_nbformat": 4
 },
 "nbformat": 4,
 "nbformat_minor": 2
}
